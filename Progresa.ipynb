{
 "cells": [
  {
   "cell_type": "markdown",
   "metadata": {
    "ein.tags": [
     "worksheet-0"
    ],
    "slideshow": {
     "slide_type": "-"
    }
   },
   "source": [
    "# Problem Set 2, AKSHAY SINGH: INFX 574C\n",
    "\n",
    "**Please Note:** This assignment will likely take you a _long_ time, especially if you are new to Python. Start early!"
   ]
  },
  {
   "cell_type": "markdown",
   "metadata": {
    "ein.tags": [
     "worksheet-0"
    ],
    "slideshow": {
     "slide_type": "-"
    }
   },
   "source": [
    "## Introduction to the assignment\n",
    "\n",
    "For this assignment, you will be using data from the [Progresa program](http://en.wikipedia.org/wiki/Oportunidades), a government social assistance program in Mexico. This program, as well as the details of its impact, are described in the paper \"[School subsidies for the poor: evaluating the Mexican Progresa poverty program](http://www.sciencedirect.com/science/article/pii/S0304387803001858)\", by Paul Shultz (available on Canvas). Please familiarize yourself with the PROGRESA program before beginning this problem set, so you have a rough sense of where the data come from and how they were generated. If you just proceed into the problem set without understanding Progresa or the data, it will be very difficult!\n",
    "\n",
    "The goal of this problem set is to implement some of the basic econometric techniques that you are learning in class to measure the impact of Progresa on secondary school enrollment rates. The timeline of the program was:\n",
    "\n",
    " * Baseline survey conducted in 1997\n",
    " * Intervention begins in 1998, \"Wave 1\" of data collected in 1998\n",
    " * \"Wave 2 of data\" collected in 1999\n",
    " * Evaluation ends in 2000, at which point the control villages were treated. \n",
    " \n",
    "When you are ready, download the progresa_sample.csv data from Canvas. The data are actual data collected to evaluate the impact of the Progresa program.  In this file, each row corresponds to an observation taken for a given child for a given year. There are two years of data (1997 and 1998), and just under 40,000 children who are surveyed in each year. For each child-year observation, the following variables are collected:\n",
    "\n",
    "| Variable name | Description|\n",
    "|---------|---------|\n",
    "|year\t  |year in which data is collected\n",
    "|sex\t  |male = 1|\n",
    "|indig\t  |indigenous = 1|\n",
    "|dist_sec |nearest distance to a secondary school|\n",
    "|sc\t      |enrolled in school in year of survey|\n",
    "|grc      |grade enrolled|\n",
    "|fam_n    |family size|\n",
    "|min_dist |\tmin distance to an urban center|\n",
    "|dist_cap |\tmin distance to the capital|\n",
    "|poor     |\tpoor = 1|\n",
    "|progresa |treatment =1|\n",
    "|hohedu\t  |years of schooling of head of household|\n",
    "|hohwag\t  |monthly wages of head of household|\n",
    "|welfare_index|\twelfare index used to classify poor|\n",
    "|hohsex\t  |gender of head of household (male=1)|\n",
    "|hohage   |age of head of household|\n",
    "|age      |years old|\n",
    "|folnum\t  |individual id|\n",
    "|village  |\tvillage id|\n",
    "|sc97\t  |schooling in 1997|"
   ]
  },
  {
   "cell_type": "code",
   "execution_count": 102,
   "metadata": {
    "collapsed": true
   },
   "outputs": [],
   "source": [
    "#IPython is what you are using now to run the notebook\n",
    "import IPython\n",
    "# Numpy is a library for working with Arrays\n",
    "import numpy as np\n",
    "# SciPy implements many different numerical algorithms\n",
    "import scipy as sp\n",
    "# Pandas makes working with data tables easier\n",
    "import pandas as pd\n",
    "# Module for plotting\n",
    "import matplotlib\n",
    "# SciKit Learn implements several Machine Learning algorithms\n",
    "import sklearn"
   ]
  },
  {
   "cell_type": "markdown",
   "metadata": {
    "ein.tags": [
     "worksheet-0"
    ],
    "slideshow": {
     "slide_type": "-"
    }
   },
   "source": [
    "---\n",
    "\n",
    "##Part 1: Descriptive analysis\n",
    "\n",
    "### 1.1\tSummary Statistics\n",
    "\n",
    "Present summary statistics (mean and standard deviation) for all of the demographic variables in the dataset (i.e., everything except year, folnum, village). Present these in a single table alphabetized by variable name. Do NOT simply expect the grader to scroll through your output!"
   ]
  },
  {
   "cell_type": "code",
   "execution_count": 116,
   "metadata": {
    "autoscroll": "json-false",
    "collapsed": false,
    "ein.tags": [
     "worksheet-0"
    ],
    "slideshow": {
     "slide_type": "-"
    }
   },
   "outputs": [
    {
     "data": {
      "text/html": [
       "<div>\n",
       "<table border=\"1\" class=\"dataframe\">\n",
       "  <thead>\n",
       "    <tr style=\"text-align: right;\">\n",
       "      <th></th>\n",
       "      <th>mean</th>\n",
       "      <th>std</th>\n",
       "    </tr>\n",
       "  </thead>\n",
       "  <tbody>\n",
       "    <tr>\n",
       "      <th>age</th>\n",
       "      <td>11.141369</td>\n",
       "      <td>2.995374</td>\n",
       "    </tr>\n",
       "    <tr>\n",
       "      <th>dist_cap</th>\n",
       "      <td>148.747707</td>\n",
       "      <td>77.134043</td>\n",
       "    </tr>\n",
       "    <tr>\n",
       "      <th>dist_sec</th>\n",
       "      <td>2.346990</td>\n",
       "      <td>2.111281</td>\n",
       "    </tr>\n",
       "    <tr>\n",
       "      <th>fam_n</th>\n",
       "      <td>7.224666</td>\n",
       "      <td>2.329421</td>\n",
       "    </tr>\n",
       "    <tr>\n",
       "      <th>grc</th>\n",
       "      <td>4.089494</td>\n",
       "      <td>2.447608</td>\n",
       "    </tr>\n",
       "    <tr>\n",
       "      <th>grc97</th>\n",
       "      <td>3.762656</td>\n",
       "      <td>2.449568</td>\n",
       "    </tr>\n",
       "    <tr>\n",
       "      <th>hohage</th>\n",
       "      <td>44.262224</td>\n",
       "      <td>11.457772</td>\n",
       "    </tr>\n",
       "    <tr>\n",
       "      <th>hohedu</th>\n",
       "      <td>2.853908</td>\n",
       "      <td>2.655106</td>\n",
       "    </tr>\n",
       "    <tr>\n",
       "      <th>hohsex</th>\n",
       "      <td>0.927744</td>\n",
       "      <td>0.258914</td>\n",
       "    </tr>\n",
       "    <tr>\n",
       "      <th>hohwag</th>\n",
       "      <td>592.782484</td>\n",
       "      <td>791.378223</td>\n",
       "    </tr>\n",
       "    <tr>\n",
       "      <th>indig</th>\n",
       "      <td>0.291305</td>\n",
       "      <td>0.454367</td>\n",
       "    </tr>\n",
       "    <tr>\n",
       "      <th>min_dist</th>\n",
       "      <td>103.595249</td>\n",
       "      <td>42.025512</td>\n",
       "    </tr>\n",
       "    <tr>\n",
       "      <th>sc</th>\n",
       "      <td>0.821102</td>\n",
       "      <td>0.383270</td>\n",
       "    </tr>\n",
       "    <tr>\n",
       "      <th>sc97</th>\n",
       "      <td>0.839263</td>\n",
       "      <td>0.367291</td>\n",
       "    </tr>\n",
       "    <tr>\n",
       "      <th>sex</th>\n",
       "      <td>0.513572</td>\n",
       "      <td>0.499819</td>\n",
       "    </tr>\n",
       "    <tr>\n",
       "      <th>welfare_index</th>\n",
       "      <td>690.196267</td>\n",
       "      <td>139.489218</td>\n",
       "    </tr>\n",
       "  </tbody>\n",
       "</table>\n",
       "</div>"
      ],
      "text/plain": [
       "                     mean         std\n",
       "age             11.141369    2.995374\n",
       "dist_cap       148.747707   77.134043\n",
       "dist_sec         2.346990    2.111281\n",
       "fam_n            7.224666    2.329421\n",
       "grc              4.089494    2.447608\n",
       "grc97            3.762656    2.449568\n",
       "hohage          44.262224   11.457772\n",
       "hohedu           2.853908    2.655106\n",
       "hohsex           0.927744    0.258914\n",
       "hohwag         592.782484  791.378223\n",
       "indig            0.291305    0.454367\n",
       "min_dist       103.595249   42.025512\n",
       "sc               0.821102    0.383270\n",
       "sc97             0.839263    0.367291\n",
       "sex              0.513572    0.499819\n",
       "welfare_index  690.196267  139.489218"
      ]
     },
     "execution_count": 116,
     "metadata": {},
     "output_type": "execute_result"
    }
   ],
   "source": [
    "#Read from .csv\n",
    "progresa = pd.read_csv('progresa_sample.csv')\n",
    "\n",
    "#Drop Na values\n",
    "progresa = progresa.dropna();\n",
    "\n",
    "#Populate means\n",
    "progresa_sum  = pd.DataFrame(progresa.mean())\n",
    "\n",
    "#Rename 0th column\n",
    "progresa_sum.rename(columns = {0:'mean'}, inplace = True)\n",
    "\n",
    "#Populate standard deviation\n",
    "progresa_sum['std'] = pd.DataFrame(progresa.std())\n",
    "\n",
    "#Drop columns not needed\n",
    "progresa_sum = progresa_sum.drop(['year','folnum','village'], axis = 0)\n",
    "#Sort by lexographic order\n",
    "progresa_sum.sort_index(inplace = True)\n",
    "\n",
    "#progresa_trans\n",
    "progresa_sum"
   ]
  },
  {
   "cell_type": "markdown",
   "metadata": {
    "ein.tags": [
     "worksheet-0"
    ],
    "slideshow": {
     "slide_type": "-"
    }
   },
   "source": [
    "### 1.2 Differences at baseline?\n",
    "\n",
    "Are the baseline (1997) demographic characteristics **for the poor**  different in treatment and control villages? Hint: Use a T-Test to determine whether there is a statistically significant difference in the average values of each of the variables in the dataset. Focus only on the data from 1997 for individuals who are poor (i.e., poor=='pobre').\n",
    "\n",
    "Present your results in a single table with the following columns and 14 (or so) rows:\n",
    "\n",
    "| Variable name | Average value (Treatment villages) | Average value (Control villages) | Difference (Treat - Control) | p-value |\n",
    "|------|------|------|------|------|\n",
    "|Male  |?     |?     |?     |?     |\n"
   ]
  },
  {
   "cell_type": "markdown",
   "metadata": {
    "ein.tags": [
     "worksheet-0"
    ],
    "slideshow": {
     "slide_type": "-"
    }
   },
   "source": [
    "### 1.3 Interpretation\n",
    "\n",
    "* A: Are there statistically significant differences between treatment and control villages as baseline? \n",
    "* B: Why does it matter if there are differences at baseline?\n",
    "* C: What does this imply about how to measure the impact of the treatment?"
   ]
  },
  {
   "cell_type": "code",
   "execution_count": 130,
   "metadata": {
    "autoscroll": "json-false",
    "collapsed": false,
    "ein.tags": [
     "worksheet-0"
    ],
    "slideshow": {
     "slide_type": "-"
    }
   },
   "outputs": [
    {
     "data": {
      "text/html": [
       "<div>\n",
       "<table border=\"1\" class=\"dataframe\">\n",
       "  <thead>\n",
       "    <tr style=\"text-align: right;\">\n",
       "      <th></th>\n",
       "      <th>Average value (Treatment villages)</th>\n",
       "      <th>Average value (Control villages)</th>\n",
       "      <th>p-value</th>\n",
       "      <th>difference</th>\n",
       "    </tr>\n",
       "  </thead>\n",
       "  <tbody>\n",
       "    <tr>\n",
       "      <th>age</th>\n",
       "      <td>10.785586</td>\n",
       "      <td>10.743825</td>\n",
       "      <td>2.476155e-01</td>\n",
       "      <td>[0.908566840123]</td>\n",
       "    </tr>\n",
       "    <tr>\n",
       "      <th>dist_cap</th>\n",
       "      <td>154.492095</td>\n",
       "      <td>151.801472</td>\n",
       "      <td>3.414194e-03</td>\n",
       "      <td>[2.92456839636]</td>\n",
       "    </tr>\n",
       "    <tr>\n",
       "      <th>dist_sec</th>\n",
       "      <td>2.400687</td>\n",
       "      <td>2.399648</td>\n",
       "      <td>9.670949e-01</td>\n",
       "      <td>[-0.92584248514]</td>\n",
       "    </tr>\n",
       "    <tr>\n",
       "      <th>fam_n</th>\n",
       "      <td>7.302939</td>\n",
       "      <td>7.281032</td>\n",
       "      <td>4.236088e-01</td>\n",
       "      <td>[0.376577954725]</td>\n",
       "    </tr>\n",
       "    <tr>\n",
       "      <th>grc</th>\n",
       "      <td>3.733653</td>\n",
       "      <td>3.709214</td>\n",
       "      <td>3.947750e-01</td>\n",
       "      <td>[0.456226728832]</td>\n",
       "    </tr>\n",
       "    <tr>\n",
       "      <th>grc97</th>\n",
       "      <td>3.733653</td>\n",
       "      <td>3.709214</td>\n",
       "      <td>3.947750e-01</td>\n",
       "      <td>[0.456226728832]</td>\n",
       "    </tr>\n",
       "    <tr>\n",
       "      <th>hohage</th>\n",
       "      <td>44.270717</td>\n",
       "      <td>43.631234</td>\n",
       "      <td>1.925767e-06</td>\n",
       "      <td>[4.76197695267]</td>\n",
       "    </tr>\n",
       "    <tr>\n",
       "      <th>hohedu</th>\n",
       "      <td>2.660982</td>\n",
       "      <td>2.726729</td>\n",
       "      <td>2.613239e-02</td>\n",
       "      <td>[-2.25047862816]</td>\n",
       "    </tr>\n",
       "    <tr>\n",
       "      <th>hohsex</th>\n",
       "      <td>0.923387</td>\n",
       "      <td>0.925586</td>\n",
       "      <td>4.781232e-01</td>\n",
       "      <td>[-1.18745624168]</td>\n",
       "    </tr>\n",
       "    <tr>\n",
       "      <th>hohwag</th>\n",
       "      <td>580.694452</td>\n",
       "      <td>550.207086</td>\n",
       "      <td>2.727661e-04</td>\n",
       "      <td>[3.64002822167]</td>\n",
       "    </tr>\n",
       "    <tr>\n",
       "      <th>indig</th>\n",
       "      <td>0.325306</td>\n",
       "      <td>0.316744</td>\n",
       "      <td>1.183760e-01</td>\n",
       "      <td>[1.44329413729]</td>\n",
       "    </tr>\n",
       "    <tr>\n",
       "      <th>min_dist</th>\n",
       "      <td>103.098348</td>\n",
       "      <td>107.395231</td>\n",
       "      <td>1.936661e-18</td>\n",
       "      <td>[-8.76646197055]</td>\n",
       "    </tr>\n",
       "    <tr>\n",
       "      <th>sc</th>\n",
       "      <td>0.815066</td>\n",
       "      <td>0.822697</td>\n",
       "      <td>9.117959e-02</td>\n",
       "      <td>[-1.78044048258]</td>\n",
       "    </tr>\n",
       "    <tr>\n",
       "      <th>sc97</th>\n",
       "      <td>0.815066</td>\n",
       "      <td>0.822697</td>\n",
       "      <td>9.117959e-02</td>\n",
       "      <td>[-1.78044048258]</td>\n",
       "    </tr>\n",
       "    <tr>\n",
       "      <th>sex</th>\n",
       "      <td>0.506556</td>\n",
       "      <td>0.520268</td>\n",
       "      <td>1.956962e-02</td>\n",
       "      <td>[-2.35419087303]</td>\n",
       "    </tr>\n",
       "    <tr>\n",
       "      <th>welfare_index</th>\n",
       "      <td>661.593513</td>\n",
       "      <td>656.810476</td>\n",
       "      <td>3.724043e-04</td>\n",
       "      <td>[3.55892817846]</td>\n",
       "    </tr>\n",
       "  </tbody>\n",
       "</table>\n",
       "</div>"
      ],
      "text/plain": [
       "               Average value (Treatment villages)  \\\n",
       "age                                     10.785586   \n",
       "dist_cap                               154.492095   \n",
       "dist_sec                                 2.400687   \n",
       "fam_n                                    7.302939   \n",
       "grc                                      3.733653   \n",
       "grc97                                    3.733653   \n",
       "hohage                                  44.270717   \n",
       "hohedu                                   2.660982   \n",
       "hohsex                                   0.923387   \n",
       "hohwag                                 580.694452   \n",
       "indig                                    0.325306   \n",
       "min_dist                               103.098348   \n",
       "sc                                       0.815066   \n",
       "sc97                                     0.815066   \n",
       "sex                                      0.506556   \n",
       "welfare_index                          661.593513   \n",
       "\n",
       "               Average value (Control villages)       p-value  \\\n",
       "age                                   10.743825  2.476155e-01   \n",
       "dist_cap                             151.801472  3.414194e-03   \n",
       "dist_sec                               2.399648  9.670949e-01   \n",
       "fam_n                                  7.281032  4.236088e-01   \n",
       "grc                                    3.709214  3.947750e-01   \n",
       "grc97                                  3.709214  3.947750e-01   \n",
       "hohage                                43.631234  1.925767e-06   \n",
       "hohedu                                 2.726729  2.613239e-02   \n",
       "hohsex                                 0.925586  4.781232e-01   \n",
       "hohwag                               550.207086  2.727661e-04   \n",
       "indig                                  0.316744  1.183760e-01   \n",
       "min_dist                             107.395231  1.936661e-18   \n",
       "sc                                     0.822697  9.117959e-02   \n",
       "sc97                                   0.822697  9.117959e-02   \n",
       "sex                                    0.520268  1.956962e-02   \n",
       "welfare_index                        656.810476  3.724043e-04   \n",
       "\n",
       "                     difference  \n",
       "age            [0.908566840123]  \n",
       "dist_cap        [2.92456839636]  \n",
       "dist_sec       [-0.92584248514]  \n",
       "fam_n          [0.376577954725]  \n",
       "grc            [0.456226728832]  \n",
       "grc97          [0.456226728832]  \n",
       "hohage          [4.76197695267]  \n",
       "hohedu         [-2.25047862816]  \n",
       "hohsex         [-1.18745624168]  \n",
       "hohwag          [3.64002822167]  \n",
       "indig           [1.44329413729]  \n",
       "min_dist       [-8.76646197055]  \n",
       "sc             [-1.78044048258]  \n",
       "sc97           [-1.78044048258]  \n",
       "sex            [-2.35419087303]  \n",
       "welfare_index   [3.55892817846]  "
      ]
     },
     "execution_count": 130,
     "metadata": {},
     "output_type": "execute_result"
    }
   ],
   "source": [
    "import scipy.stats\n",
    "\n",
    "# Filter out data for the poor and from '97\n",
    "progresa_poor = progresa[(progresa['poor']=='pobre') & (progresa['year']==97)]\n",
    "\n",
    "# Create control group\n",
    "prog_control = progresa_poor[progresa_poor['progresa'] == 'basal']\n",
    "# Create treatment group\n",
    "prog_treatment = progresa_poor[progresa_poor['progresa'] != 'basal']\n",
    "\n",
    "#Drop non-numeric and id's from dataset\n",
    "prog_control = prog_control.drop(['progresa','poor','year','folnum','village'], axis = 1)\n",
    "prog_treatment = prog_treatment.drop(['progresa','poor','year','folnum','village'], axis = 1)\n",
    "\n",
    "# Create dataframe of mean values from both control and treatment\n",
    "control_mean = pd.DataFrame(prog_control.mean())\n",
    "treatment_mean = pd.DataFrame(prog_treatment.mean())\n",
    "\n",
    "# Join mean values into \n",
    "prog_both = pd.DataFrame(pd.concat([treatment_mean, control_mean], axis=1, join='inner'))\n",
    "\n",
    "# Create new columns and rename older ones\n",
    "prog_both.columns = ['Average value (Treatment villages)', 'Average value (Control villages)']\n",
    "prog_both['t-value'] = \"\"\n",
    "prog_both['p-value'] = \"\"\n",
    "prog_both['difference'] = \"\"\n",
    "\n",
    "#Apply ttest for each row in the dataset\n",
    "for index in range(len(prog_both)):  \n",
    "    ttest = scipy.stats.ttest_ind(prog_treatment.iloc[::,index:index+1].dropna(),prog_control.iloc[::,index:index+1].dropna())\n",
    "    prog_both.iloc[index,2:3] = ttest[0]\n",
    "    prog_both.iloc[index,3:4] = ttest[1]\n",
    "    prog_both.iloc[index,4:5] = ttest[0] - ttest[1]\n",
    "\n",
    "#Take only the first value of the tuple returned by ttest\n",
    "prog_both['t-value'] = prog_both['t-value'].str[0]\n",
    "prog_both['p-value'] = prog_both['p-value'].str[0]\n",
    "\n",
    "prog_both = prog_both.drop(['t-value'],axis=1)\n",
    "\n",
    "#Sort columns lexographically\n",
    "prog_both.sort_index(ascending = True)"
   ]
  },
  {
   "cell_type": "markdown",
   "metadata": {},
   "source": [
    "Interpretation\n",
    "\n",
    "1.) We see that the p-values are very low for a few variables like dist_cap, hohwag, min_dist, hohage etc. which tells us that there a large statistically significant difference between the control and the baseline even though we might expect them to be close\n",
    "\n",
    "2.) The assumption here is that randomization was performed correctly. In that case any baseline differences should be a result of that randomization. This might not be so for the progresa data. However, we should also note that the baseline differences are not pointing towards validity of the results of the study\n",
    "\n",
    "3.) If we assume there is improper randomization due to some flaw in the dataset we'd have to set baseline characteristics in a manner to determine an outcome. They should not be dependent on any evidence of imbalance in the treatment groups"
   ]
  },
  {
   "cell_type": "markdown",
   "metadata": {
    "ein.tags": [
     "worksheet-0"
    ],
    "slideshow": {
     "slide_type": "-"
    }
   },
   "source": [
    "### 1.4 Graphical exploration, part 1\n",
    "\n",
    "For each level of household head education, compute the average enrollment rate in 1997. Create a scatterplot that shows this relationship. What do you notice?"
   ]
  },
  {
   "cell_type": "code",
   "execution_count": 132,
   "metadata": {
    "autoscroll": "json-false",
    "collapsed": false,
    "ein.tags": [
     "worksheet-0"
    ],
    "slideshow": {
     "slide_type": "-"
    }
   },
   "outputs": [
    {
     "data": {
      "image/png": "[encoded data removed]",
      "text/plain": [
       "<matplotlib.figure.Figure at 0x2c2e21826a0>"
      ]
     },
     "metadata": {},
     "output_type": "display_data"
    }
   ],
   "source": [
    "from matplotlib import pyplot as plt\n",
    "\n",
    "#Filter out year 98\n",
    "progresa_edu = progresa[progresa['year'] == 97]\n",
    "\n",
    "#Group by household head education years\n",
    "progresa_edu = progresa_edu.groupby(['hohedu'],as_index=False).mean()\n",
    "\n",
    "#Plot area graph using dataframe.plot() using column sc97 denoting enrollment in 97\n",
    "progresa_edu.plot(x='hohedu',y='sc97',kind='scatter')\n",
    "\n",
    "#Set title and labels\n",
    "plt.title('Household Head Education Vs Average Enrollment Rate')\n",
    "plt.ylabel('Enrollment Rate in 97')\n",
    "plt.xlabel('Years of Education of Household Head')\n",
    "plt.show()\n",
    "\n"
   ]
  },
  {
   "cell_type": "markdown",
   "metadata": {},
   "source": [
    "We see that the enrollment has a positive relationship with the number of household head education years uptil around 14 years after which it drops down. It increases a bit with a few deviations from the normal till it reaches around 19 years. There is also an outlier at around 0.5 enrollment rate"
   ]
  },
  {
   "cell_type": "markdown",
   "metadata": {
    "ein.tags": [
     "worksheet-0"
    ],
    "slideshow": {
     "slide_type": "-"
    }
   },
   "source": [
    "### 1.5 Graphical exploration, part 2\n",
    "\n",
    "Create a histogram of village enrollment rates **among poor households in treated villages**, before and after treatment. Specifically, for each village, calculate the average rate of enrollment of poor households in treated villages in 1997, then compute the average rate of enrollment of poor households in treated villages in 1998. Create two separate histograms showing the distribution of these average enrollments rates, one histogram for 1997 and one histogram for 1998. On each histogram, draw a vertical line that intersects the x-axis at the average value (across all households).\n",
    "* Does there appear to be a difference? Is this difference statistically significant?\n",
    "* Which D estimator in Schultz (2004) does this approach correspond to?"
   ]
  },
  {
   "cell_type": "code",
   "execution_count": 147,
   "metadata": {
    "autoscroll": "json-false",
    "collapsed": false,
    "ein.tags": [
     "worksheet-0"
    ],
    "slideshow": {
     "slide_type": "-"
    }
   },
   "outputs": [
    {
     "data": {
      "image/png": "[encoded data removed]",
      "text/plain": [
       "<matplotlib.figure.Figure at 0x2c2ddb19240>"
      ]
     },
     "metadata": {},
     "output_type": "display_data"
    },
    {
     "data": {
      "image/png": "[encoded data removed]",
      "text/plain": [
       "<matplotlib.figure.Figure at 0x2c2e16b0780>"
      ]
     },
     "metadata": {},
     "output_type": "display_data"
    }
   ],
   "source": [
    "#Filter out data based on poor families\n",
    "progresa_income = progresa[progresa['poor']=='pobre']\n",
    "\n",
    "#Filter out data based on year and treatment\n",
    "progresa_97  = progresa_income[progresa_income['year'] == 97].where(progresa_income['progresa'] == 'basal')\n",
    "progresa_98  = progresa_income[progresa_income['year'] == 98].where(progresa_income['progresa'] == 'basal')\n",
    "\n",
    "pre = progresa_97.groupby('village').mean()\n",
    "post = progresa_98.groupby('village').mean()\n",
    "\n",
    "# Plot histogram 1\n",
    "plt.figure(1)\n",
    "\n",
    "#Specifiy histo characteristics\n",
    "plt.hist(pre['sc'].values, color = 'g', alpha = 0.8, range = [0.2,1])\n",
    "\n",
    "#Add vline intersecting the x axis\n",
    "plt.axvline(pre['sc'].mean(), color = 'b', linestyle = 'solid', linewidth = 3)\n",
    "\n",
    "#Set labels and title\n",
    "plt.xlabel('Enrollment rate in 97')\n",
    "plt.ylabel('Distribution')\n",
    "plt.title('Distribution of Enrollment rate in 1997')\n",
    "\n",
    "# Plot historgram 2\n",
    "plt.figure(2)\n",
    "\n",
    "#Specifiy histo characteristics\n",
    "plt.hist(post['sc'].values, color = 'burlywood', range = [0.2,1])\n",
    "\n",
    "#Add vline intersecting the x axis\n",
    "plt.axvline(post['sc'].mean(), color = 'b', linestyle = 'solid', linewidth = 3)\n",
    "\n",
    "#Set labels and title\n",
    "plt.xlabel('Enrollment rate in 98')\n",
    "plt.ylabel('Distribution')\n",
    "plt.title('Distribution of Enrollment rate in 1998')\n",
    "\n",
    "plt.show()"
   ]
  },
  {
   "cell_type": "markdown",
   "metadata": {},
   "source": [
    "There seems to be a difference in the average enrollment rates. Let's see that difference"
   ]
  },
  {
   "cell_type": "code",
   "execution_count": 148,
   "metadata": {
    "collapsed": false
   },
   "outputs": [
    {
     "name": "stdout",
     "output_type": "stream",
     "text": [
      "0.019984378946272252\n"
     ]
    }
   ],
   "source": [
    "# Find the difference\n",
    "rate_diff = post['sc'].mean() - pre['sc'].mean()\n",
    "print(rate_diff)"
   ]
  },
  {
   "cell_type": "markdown",
   "metadata": {},
   "source": [
    "Let us check if this difference is statistically significant."
   ]
  },
  {
   "cell_type": "code",
   "execution_count": 150,
   "metadata": {
    "collapsed": false
   },
   "outputs": [
    {
     "data": {
      "text/plain": [
       "0.010587739721624679"
      ]
     },
     "execution_count": 150,
     "metadata": {},
     "output_type": "execute_result"
    }
   ],
   "source": [
    "# ttest\n",
    "t_test = stats.ttest_ind(post['sc'].dropna(), pre['sc'].dropna())\n",
    "t_test[1]"
   ]
  },
  {
   "cell_type": "markdown",
   "metadata": {},
   "source": [
    "As we can see the p-value is 0.0105 which indicates this difference is statistically significant. We can also see the difference in the average values of enrollment rate in '97 and '98 throught the historgram as well as the calculation we performed."
   ]
  },
  {
   "cell_type": "markdown",
   "metadata": {
    "ein.tags": [
     "worksheet-0"
    ],
    "slideshow": {
     "slide_type": "-"
    }
   },
   "source": [
    "## Part 2: Measuring Impact\n",
    "\n",
    "### 2.1 Simple differences: T-test\n",
    "\n",
    "Start out by estimating the impact of Progresa using \"simple differences.\" Restricting yourself to data from 1998 (after treatment).\n",
    "* calculate the average enrollment rate among **poor** households in the Treatment villages and the average enrollment rate among **poor** households in the control villages.\n",
    "* Which difference estimator in Schultz (2004) does this approach correspond to?\n",
    "* Use a t-test to determine if this difference is statistically significant. What do you conclude?"
   ]
  },
  {
   "cell_type": "code",
   "execution_count": 153,
   "metadata": {
    "autoscroll": "json-false",
    "collapsed": false,
    "ein.tags": [
     "worksheet-0"
    ],
    "slideshow": {
     "slide_type": "-"
    }
   },
   "outputs": [
    {
     "data": {
      "text/html": [
       "<div>\n",
       "<table border=\"1\" class=\"dataframe\">\n",
       "  <thead>\n",
       "    <tr style=\"text-align: right;\">\n",
       "      <th></th>\n",
       "      <th>Treatment Group Enrollment Mean</th>\n",
       "      <th>Control Group Enrollment Mean</th>\n",
       "      <th>Difference in rates</th>\n",
       "      <th>t-value</th>\n",
       "      <th>p-value</th>\n",
       "    </tr>\n",
       "  </thead>\n",
       "  <tbody>\n",
       "    <tr>\n",
       "      <th>0</th>\n",
       "      <td>0.849257</td>\n",
       "      <td>0.810923</td>\n",
       "      <td>0.038334</td>\n",
       "      <td>8.10165</td>\n",
       "      <td>5.656456e-16</td>\n",
       "    </tr>\n",
       "  </tbody>\n",
       "</table>\n",
       "</div>"
      ],
      "text/plain": [
       "   Treatment Group Enrollment Mean  Control Group Enrollment Mean  \\\n",
       "0                         0.849257                       0.810923   \n",
       "\n",
       "   Difference in rates  t-value       p-value  \n",
       "0             0.038334  8.10165  5.656456e-16  "
      ]
     },
     "execution_count": 153,
     "metadata": {},
     "output_type": "execute_result"
    }
   ],
   "source": [
    "# Filter data for year 98 and poor households with treatement and control group conditions\n",
    "control_group =   progresa[(progresa['year'] == 98) & (progresa['poor'] == 'pobre') & (progresa['progresa'] != 'basal')]\n",
    "treatment_group = progresa[(progresa['year'] == 98) & (progresa['poor']  == 'pobre') & (progresa['progresa'] == 'basal')]\n",
    "\n",
    "# average enrollment rate in treatment villages\n",
    "treatment_average = treatment_group['sc'].mean()\n",
    "# average enrollment rate among poor households in control villages\n",
    "control_average = control_group['sc'].mean()\n",
    "\n",
    "progresa_ttest = scipy.stats.ttest_ind(treatment_group['sc'].dropna(), control_group['sc'].dropna())\n",
    "\n",
    "# tabulating results\n",
    "table_significant = pd.DataFrame.from_items([('Treatment Group Enrollment Mean', [treatment_average]), \n",
    "                        ('Control Group Enrollment Mean', [control_average]),\n",
    "                        ('Difference in rates', [treatment_average - control_average]),\n",
    "                        ('t-value', [progresa_ttest[0]]), \n",
    "                        ('p-value', [progresa_ttest[1]])])\n",
    "\n",
    "table_significant"
   ]
  },
  {
   "cell_type": "markdown",
   "metadata": {},
   "source": [
    "The p value is lesser than 0.05 which means that the difference is not random but is statistically significant\n",
    "\n",
    "Looking at just the difference treatment villages have a higher rate of enrollment in 1998 as compared to the control villages."
   ]
  },
  {
   "cell_type": "markdown",
   "metadata": {
    "ein.tags": [
     "worksheet-0"
    ],
    "slideshow": {
     "slide_type": "-"
    }
   },
   "source": [
    "### 2.2 Simple differences: Regression\n",
    "\n",
    "Estimate the effects of Progresa on enrollment using a regression model, by regressing the 1998 enrollment rates **of the poor** on treatment assignment. Discuss the following:\n",
    "\n",
    "* Based on this model, how much did Progresa increase the likelihood of a child enrolling?\n",
    "* How does your regression estimate compare to your t-test estimate from part 2.1?\n",
    "* Based on this regression model, can we reject the null hypothesis that the treatment effects are zero? \n",
    "* What is the counterfactual assumption underlying this regression?"
   ]
  },
  {
   "cell_type": "code",
   "execution_count": 159,
   "metadata": {
    "autoscroll": "json-false",
    "collapsed": false,
    "ein.tags": [
     "worksheet-0"
    ],
    "slideshow": {
     "slide_type": "-"
    }
   },
   "outputs": [
    {
     "data": {
      "text/html": [
       "<table class=\"simpletable\">\n",
       "<caption>OLS Regression Results</caption>\n",
       "<tr>\n",
       "  <th>Dep. Variable:</th>           <td>sc</td>        <th>  R-squared:         </th> <td>   0.003</td> \n",
       "</tr>\n",
       "<tr>\n",
       "  <th>Model:</th>                   <td>OLS</td>       <th>  Adj. R-squared:    </th> <td>   0.002</td> \n",
       "</tr>\n",
       "<tr>\n",
       "  <th>Method:</th>             <td>Least Squares</td>  <th>  F-statistic:       </th> <td>   65.64</td> \n",
       "</tr>\n",
       "<tr>\n",
       "  <th>Date:</th>             <td>Thu, 26 Jan 2017</td> <th>  Prob (F-statistic):</th> <td>5.66e-16</td> \n",
       "</tr>\n",
       "<tr>\n",
       "  <th>Time:</th>                 <td>13:44:06</td>     <th>  Log-Likelihood:    </th> <td> -11171.</td> \n",
       "</tr>\n",
       "<tr>\n",
       "  <th>No. Observations:</th>      <td> 26155</td>      <th>  AIC:               </th> <td>2.235e+04</td>\n",
       "</tr>\n",
       "<tr>\n",
       "  <th>Df Residuals:</th>          <td> 26153</td>      <th>  BIC:               </th> <td>2.236e+04</td>\n",
       "</tr>\n",
       "<tr>\n",
       "  <th>Df Model:</th>              <td>     1</td>      <th>                     </th>     <td> </td>    \n",
       "</tr>\n",
       "<tr>\n",
       "  <th>Covariance Type:</th>      <td>nonrobust</td>    <th>                     </th>     <td> </td>    \n",
       "</tr>\n",
       "</table>\n",
       "<table class=\"simpletable\">\n",
       "<tr>\n",
       "          <td></td>             <th>coef</th>     <th>std err</th>      <th>t</th>      <th>P>|t|</th> <th>[95.0% Conf. Int.]</th> \n",
       "</tr>\n",
       "<tr>\n",
       "  <th>Intercept</th>         <td>    0.8109</td> <td>    0.004</td> <td>  217.190</td> <td> 0.000</td> <td>    0.804     0.818</td>\n",
       "</tr>\n",
       "<tr>\n",
       "  <th>progresa[T.basal]</th> <td>    0.0383</td> <td>    0.005</td> <td>    8.102</td> <td> 0.000</td> <td>    0.029     0.048</td>\n",
       "</tr>\n",
       "</table>\n",
       "<table class=\"simpletable\">\n",
       "<tr>\n",
       "  <th>Omnibus:</th>       <td>7487.800</td> <th>  Durbin-Watson:     </th> <td>   1.734</td> \n",
       "</tr>\n",
       "<tr>\n",
       "  <th>Prob(Omnibus):</th>  <td> 0.000</td>  <th>  Jarque-Bera (JB):  </th> <td>15756.374</td>\n",
       "</tr>\n",
       "<tr>\n",
       "  <th>Skew:</th>           <td>-1.796</td>  <th>  Prob(JB):          </th> <td>    0.00</td> \n",
       "</tr>\n",
       "<tr>\n",
       "  <th>Kurtosis:</th>       <td> 4.245</td>  <th>  Cond. No.          </th> <td>    3.02</td> \n",
       "</tr>\n",
       "</table>"
      ],
      "text/plain": [
       "<class 'statsmodels.iolib.summary.Summary'>\n",
       "\"\"\"\n",
       "                            OLS Regression Results                            \n",
       "==============================================================================\n",
       "Dep. Variable:                     sc   R-squared:                       0.003\n",
       "Model:                            OLS   Adj. R-squared:                  0.002\n",
       "Method:                 Least Squares   F-statistic:                     65.64\n",
       "Date:                Thu, 26 Jan 2017   Prob (F-statistic):           5.66e-16\n",
       "Time:                        13:44:06   Log-Likelihood:                -11171.\n",
       "No. Observations:               26155   AIC:                         2.235e+04\n",
       "Df Residuals:                   26153   BIC:                         2.236e+04\n",
       "Df Model:                           1                                         \n",
       "Covariance Type:            nonrobust                                         \n",
       "=====================================================================================\n",
       "                        coef    std err          t      P>|t|      [95.0% Conf. Int.]\n",
       "-------------------------------------------------------------------------------------\n",
       "Intercept             0.8109      0.004    217.190      0.000         0.804     0.818\n",
       "progresa[T.basal]     0.0383      0.005      8.102      0.000         0.029     0.048\n",
       "==============================================================================\n",
       "Omnibus:                     7487.800   Durbin-Watson:                   1.734\n",
       "Prob(Omnibus):                  0.000   Jarque-Bera (JB):            15756.374\n",
       "Skew:                          -1.796   Prob(JB):                         0.00\n",
       "Kurtosis:                       4.245   Cond. No.                         3.02\n",
       "==============================================================================\n",
       "\n",
       "Warnings:\n",
       "[1] Standard Errors assume that the covariance matrix of the errors is correctly specified.\n",
       "\"\"\""
      ]
     },
     "execution_count": 159,
     "metadata": {},
     "output_type": "execute_result"
    }
   ],
   "source": [
    "import statsmodels.formula.api as smf\n",
    "\n",
    "# Filter out non poor and year 97\n",
    "progresa_post = progresa[(progresa['poor'] == 'pobre') & (progresa['year'] == 98)]\n",
    "\n",
    "# Linear model\n",
    "progresa_regression = smf.ols(formula = 'sc ~ progresa', data = progresa_post).fit()\n",
    "\n",
    "# Get summary of the regression model\n",
    "progresa_regression.summary()"
   ]
  },
  {
   "cell_type": "code",
   "execution_count": 160,
   "metadata": {
    "collapsed": false
   },
   "outputs": [
    {
     "data": {
      "text/plain": [
       "Intercept            0.003734\n",
       "progresa[T.basal]    0.004732\n",
       "dtype: float64"
      ]
     },
     "execution_count": 160,
     "metadata": {},
     "output_type": "execute_result"
    }
   ],
   "source": [
    "#Look at the standard error\n",
    "progresa_regression.bse"
   ]
  },
  {
   "cell_type": "markdown",
   "metadata": {},
   "source": [
    "Answer\n",
    "\n",
    "a.) From the standard error of the regression model we can see that the intercept is 0.0037 which means that the probability of a child getting enrolled in school has increased by 0.0037 times.\n",
    "\n",
    "b.) Our t-test estimate from 2.1 has the same t-value as the T statistic of the regression model. The p-values are also the same which indicate that our estimates from 2.1 were correct and equal to esitimates from 2.2\n",
    "\n",
    "c.) Our p-value is very small and statistically significant. This means we can reject the null hypothesis and say that we're 95% confident that the progresa treatment is affecting enrollment rates. \n",
    "\n",
    "d.) We're assuming that without treatment the average enrollment rates in 98 would be same as the control group. "
   ]
  },
  {
   "cell_type": "markdown",
   "metadata": {
    "ein.tags": [
     "worksheet-0"
    ],
    "slideshow": {
     "slide_type": "-"
    }
   },
   "source": [
    "### 2.3 Multiple Regression\n",
    "\n",
    "Re-run the above regression estimated but this time include a set of control variables. Include, for instance, age, distance to a secondary school, gender, education of household head, indigenous, etc.\n",
    "\n",
    "* How do the controls affect the point estimate of treatment effect?\n",
    "* How do the controls affect the standard error on the treatment effect? \n",
    "* How do you interpret the differences (or similarities) between your estimates of 2.2 and 2.3?"
   ]
  },
  {
   "cell_type": "code",
   "execution_count": 161,
   "metadata": {
    "autoscroll": "json-false",
    "collapsed": false,
    "ein.tags": [
     "worksheet-0"
    ],
    "slideshow": {
     "slide_type": "-"
    }
   },
   "outputs": [
    {
     "data": {
      "text/html": [
       "<table class=\"simpletable\">\n",
       "<caption>OLS Regression Results</caption>\n",
       "<tr>\n",
       "  <th>Dep. Variable:</th>           <td>sc</td>        <th>  R-squared:         </th> <td>   0.027</td> \n",
       "</tr>\n",
       "<tr>\n",
       "  <th>Model:</th>                   <td>OLS</td>       <th>  Adj. R-squared:    </th> <td>   0.026</td> \n",
       "</tr>\n",
       "<tr>\n",
       "  <th>Method:</th>             <td>Least Squares</td>  <th>  F-statistic:       </th> <td>   102.1</td> \n",
       "</tr>\n",
       "<tr>\n",
       "  <th>Date:</th>             <td>Thu, 26 Jan 2017</td> <th>  Prob (F-statistic):</th> <td>5.95e-148</td>\n",
       "</tr>\n",
       "<tr>\n",
       "  <th>Time:</th>                 <td>13:44:19</td>     <th>  Log-Likelihood:    </th> <td> -10852.</td> \n",
       "</tr>\n",
       "<tr>\n",
       "  <th>No. Observations:</th>      <td> 26155</td>      <th>  AIC:               </th> <td>2.172e+04</td>\n",
       "</tr>\n",
       "<tr>\n",
       "  <th>Df Residuals:</th>          <td> 26147</td>      <th>  BIC:               </th> <td>2.178e+04</td>\n",
       "</tr>\n",
       "<tr>\n",
       "  <th>Df Model:</th>              <td>     7</td>      <th>                     </th>     <td> </td>    \n",
       "</tr>\n",
       "<tr>\n",
       "  <th>Covariance Type:</th>      <td>nonrobust</td>    <th>                     </th>     <td> </td>    \n",
       "</tr>\n",
       "</table>\n",
       "<table class=\"simpletable\">\n",
       "<tr>\n",
       "          <td></td>             <th>coef</th>     <th>std err</th>      <th>t</th>      <th>P>|t|</th> <th>[95.0% Conf. Int.]</th> \n",
       "</tr>\n",
       "<tr>\n",
       "  <th>Intercept</th>         <td>    0.8098</td> <td>    0.015</td> <td>   53.204</td> <td> 0.000</td> <td>    0.780     0.840</td>\n",
       "</tr>\n",
       "<tr>\n",
       "  <th>progresa[T.basal]</th> <td>    0.0352</td> <td>    0.005</td> <td>    7.494</td> <td> 0.000</td> <td>    0.026     0.044</td>\n",
       "</tr>\n",
       "<tr>\n",
       "  <th>dist_sec</th>          <td>   -0.0086</td> <td>    0.001</td> <td>   -8.005</td> <td> 0.000</td> <td>   -0.011    -0.007</td>\n",
       "</tr>\n",
       "<tr>\n",
       "  <th>hohedu</th>            <td>    0.0155</td> <td>    0.001</td> <td>   17.053</td> <td> 0.000</td> <td>    0.014     0.017</td>\n",
       "</tr>\n",
       "<tr>\n",
       "  <th>welfare_index</th>     <td>   -0.0001</td> <td>    2e-05</td> <td>   -7.046</td> <td> 0.000</td> <td>   -0.000    -0.000</td>\n",
       "</tr>\n",
       "<tr>\n",
       "  <th>indig</th>             <td>    0.0200</td> <td>    0.006</td> <td>    3.588</td> <td> 0.000</td> <td>    0.009     0.031</td>\n",
       "</tr>\n",
       "<tr>\n",
       "  <th>dist_cap</th>          <td>    0.0001</td> <td> 4.32e-05</td> <td>    3.410</td> <td> 0.001</td> <td> 6.26e-05     0.000</td>\n",
       "</tr>\n",
       "<tr>\n",
       "  <th>min_dist</th>          <td>    0.0004</td> <td> 7.47e-05</td> <td>    5.637</td> <td> 0.000</td> <td>    0.000     0.001</td>\n",
       "</tr>\n",
       "</table>\n",
       "<table class=\"simpletable\">\n",
       "<tr>\n",
       "  <th>Omnibus:</th>       <td>7116.832</td> <th>  Durbin-Watson:     </th> <td>   1.761</td> \n",
       "</tr>\n",
       "<tr>\n",
       "  <th>Prob(Omnibus):</th>  <td> 0.000</td>  <th>  Jarque-Bera (JB):  </th> <td>14482.554</td>\n",
       "</tr>\n",
       "<tr>\n",
       "  <th>Skew:</th>           <td>-1.727</td>  <th>  Prob(JB):          </th> <td>    0.00</td> \n",
       "</tr>\n",
       "<tr>\n",
       "  <th>Kurtosis:</th>       <td> 4.165</td>  <th>  Cond. No.          </th> <td>4.65e+03</td> \n",
       "</tr>\n",
       "</table>"
      ],
      "text/plain": [
       "<class 'statsmodels.iolib.summary.Summary'>\n",
       "\"\"\"\n",
       "                            OLS Regression Results                            \n",
       "==============================================================================\n",
       "Dep. Variable:                     sc   R-squared:                       0.027\n",
       "Model:                            OLS   Adj. R-squared:                  0.026\n",
       "Method:                 Least Squares   F-statistic:                     102.1\n",
       "Date:                Thu, 26 Jan 2017   Prob (F-statistic):          5.95e-148\n",
       "Time:                        13:44:19   Log-Likelihood:                -10852.\n",
       "No. Observations:               26155   AIC:                         2.172e+04\n",
       "Df Residuals:                   26147   BIC:                         2.178e+04\n",
       "Df Model:                           7                                         \n",
       "Covariance Type:            nonrobust                                         \n",
       "=====================================================================================\n",
       "                        coef    std err          t      P>|t|      [95.0% Conf. Int.]\n",
       "-------------------------------------------------------------------------------------\n",
       "Intercept             0.8098      0.015     53.204      0.000         0.780     0.840\n",
       "progresa[T.basal]     0.0352      0.005      7.494      0.000         0.026     0.044\n",
       "dist_sec             -0.0086      0.001     -8.005      0.000        -0.011    -0.007\n",
       "hohedu                0.0155      0.001     17.053      0.000         0.014     0.017\n",
       "welfare_index        -0.0001      2e-05     -7.046      0.000        -0.000    -0.000\n",
       "indig                 0.0200      0.006      3.588      0.000         0.009     0.031\n",
       "dist_cap              0.0001   4.32e-05      3.410      0.001      6.26e-05     0.000\n",
       "min_dist              0.0004   7.47e-05      5.637      0.000         0.000     0.001\n",
       "==============================================================================\n",
       "Omnibus:                     7116.832   Durbin-Watson:                   1.761\n",
       "Prob(Omnibus):                  0.000   Jarque-Bera (JB):            14482.554\n",
       "Skew:                          -1.727   Prob(JB):                         0.00\n",
       "Kurtosis:                       4.165   Cond. No.                     4.65e+03\n",
       "==============================================================================\n",
       "\n",
       "Warnings:\n",
       "[1] Standard Errors assume that the covariance matrix of the errors is correctly specified.\n",
       "[2] The condition number is large, 4.65e+03. This might indicate that there are\n",
       "strong multicollinearity or other numerical problems.\n",
       "\"\"\""
      ]
     },
     "execution_count": 161,
     "metadata": {},
     "output_type": "execute_result"
    }
   ],
   "source": [
    "# Filter out non poor and year 97\n",
    "progresa_post_multi = progresa[(progresa['poor'] == 'pobre') & (progresa['year'] == 98)]\n",
    "\n",
    "# Linear model\n",
    "progresa_regression_multi = smf.ols(formula = 'sc ~ progresa + dist_sec + hohedu + welfare_index + indig + dist_cap + min_dist', data = progresa_post_multi).fit()\n",
    "\n",
    "# Get summary of the regression model\n",
    "progresa_regression_multi.summary()"
   ]
  },
  {
   "cell_type": "code",
   "execution_count": 162,
   "metadata": {
    "collapsed": false
   },
   "outputs": [
    {
     "data": {
      "text/plain": [
       "Intercept            0.015220\n",
       "progresa[T.basal]    0.004694\n",
       "dist_sec             0.001080\n",
       "hohedu               0.000908\n",
       "welfare_index        0.000020\n",
       "indig                0.005564\n",
       "dist_cap             0.000043\n",
       "min_dist             0.000075\n",
       "dtype: float64"
      ]
     },
     "execution_count": 162,
     "metadata": {},
     "output_type": "execute_result"
    }
   ],
   "source": [
    "progresa_regression_multi.bse"
   ]
  },
  {
   "cell_type": "markdown",
   "metadata": {},
   "source": [
    "a.) We can see that our point estimate has reduced from 0.0383 to 0.0352. So the progresa variable was actually overestimating the treatment effect. Adding more control variables also further highlighted their impact rather than just progresa.\n",
    "\n",
    "b.) We can see that the SE rate has decreased. This further supplements our conclusion that adding more variables made our treatment variable more accurate\n",
    "\n",
    "c.) One significant difference is seen in the R-squared value. It has increased 9 times and thus signifies that adding more controls to our model has increased it's performance considerably."
   ]
  },
  {
   "cell_type": "markdown",
   "metadata": {
    "ein.tags": [
     "worksheet-0"
    ],
    "slideshow": {
     "slide_type": "-"
    }
   },
   "source": [
    "### 2.4 Difference-in-Difference, version 1 (tabular)\n",
    "\n",
    "Thus far, we have computed the effects of Progresa by estimating the difference in 1998 enrollment rates across villages. An alternative approach would be to compute the treatment effect using a difference-in-differences framework.\n",
    "\n",
    "Begin by estimating the average treatment effects of the program for poor households using data from 1997 and 1998. Specifically, calculate the difference (between 1997 and 1998) in enrollment rates among poor households in treated villages; then compute the difference (between 1997 and 1998) in enrollment rates among poor households in treated villages. The difference between these two differences is your estimate.\n",
    "\n",
    "* What is your estimate of the impact, and how does it compare to your earlier (simple difference) results?\n",
    "* What is the counterfactual assumption underlying this estimate? \n"
   ]
  },
  {
   "cell_type": "code",
   "execution_count": 164,
   "metadata": {
    "autoscroll": "json-false",
    "collapsed": false,
    "ein.tags": [
     "worksheet-0"
    ],
    "slideshow": {
     "slide_type": "-"
    }
   },
   "outputs": [
    {
     "data": {
      "text/html": [
       "<div>\n",
       "<table border=\"1\" class=\"dataframe\">\n",
       "  <thead>\n",
       "    <tr style=\"text-align: right;\">\n",
       "      <th></th>\n",
       "      <th>After Values</th>\n",
       "      <th>Before Values</th>\n",
       "    </tr>\n",
       "  </thead>\n",
       "  <tbody>\n",
       "    <tr>\n",
       "      <th>Control</th>\n",
       "      <td>0.810923</td>\n",
       "      <td>0.815066</td>\n",
       "    </tr>\n",
       "    <tr>\n",
       "      <th>Treatment</th>\n",
       "      <td>0.849257</td>\n",
       "      <td>0.822697</td>\n",
       "    </tr>\n",
       "    <tr>\n",
       "      <th>Difference</th>\n",
       "      <td>0.026561</td>\n",
       "      <td>-0.004142</td>\n",
       "    </tr>\n",
       "  </tbody>\n",
       "</table>\n",
       "</div>"
      ],
      "text/plain": [
       "            After Values  Before Values\n",
       "Control         0.810923       0.815066\n",
       "Treatment       0.849257       0.822697\n",
       "Difference      0.026561      -0.004142"
      ]
     },
     "execution_count": 164,
     "metadata": {},
     "output_type": "execute_result"
    }
   ],
   "source": [
    "# Calculate means before and after treatment\n",
    "\n",
    "#Filter for year 97\n",
    "before_cont = progresa[(progresa['poor'] == 'pobre') & (progresa['year']  == 97) & (progresa['progresa'] != 'basal')].mean()['sc']\n",
    "before_treat =  progresa[(progresa['poor']  == 'pobre') & (progresa['year']  == 97) & (progresa['progresa']== 'basal')].mean()['sc']\n",
    "\n",
    "#Filter for year 98\n",
    "after_treat = progresa[(progresa['poor']  == 'pobre') & (progresa['year']  == 98) & (progresa['progresa'] == 'basal')].mean()['sc']\n",
    "after_cont = progresa[(progresa['poor']  == 'pobre') & (progresa['year']  == 98) & (progresa['progresa'] != 'basal')].mean()['sc']\n",
    "\n",
    "#Calculate differences\n",
    "diff_control =   after_cont - before_cont\n",
    "diff_treatment = after_treat - before_treat\n",
    "Diff_in_SC =    diff_treatment - diff_control\n",
    "\n",
    "# Tabular format\n",
    "tabular = {'Before Values':pd.Series([before_cont, before_treat, diff_control], index = ['Control', 'Treatment', 'Difference']),\n",
    "       'After Values':pd.Series([after_cont, after_treat, diff_treatment], index = ['Control', 'Treatment', 'Difference']),}\n",
    "\n",
    "pd.DataFrame(tabular)"
   ]
  },
  {
   "cell_type": "code",
   "execution_count": 165,
   "metadata": {
    "collapsed": false
   },
   "outputs": [
    {
     "name": "stdout",
     "output_type": "stream",
     "text": [
      "0.0307029732307\n"
     ]
    }
   ],
   "source": [
    "print(Diff_in_SC)"
   ]
  },
  {
   "cell_type": "markdown",
   "metadata": {},
   "source": [
    "a.) We can see that average enrollment rate has improved by 0.0307\n",
    "\n",
    "b.) It is the same assumption we made earlier. In absence of treatment the enrollment rates should be the same as the control group"
   ]
  },
  {
   "cell_type": "markdown",
   "metadata": {
    "ein.tags": [
     "worksheet-0"
    ],
    "slideshow": {
     "slide_type": "-"
    }
   },
   "source": [
    "### 2.5 Difference-in-Difference, version 1 (regression)\n",
    "\n",
    "Now use a regression specification to estimate the average treatment effect of the program (on the poor) in a difference-in-differences framework. Include at least 5 control variables.\n",
    "\n",
    "* What is your estimate of the impact of Progresa? Be very specific in interpreting your coefficients and standard errors, and make sure to specify exactly what units you are measuring and estimating.\n",
    "* How do these estimates of the treatment effect compare to the estimates based on the simple difference?\n",
    "* How do these estimates compare to the difference-in-difference estimates from 2.4 above? What accounts for these differences?\n",
    "* What is the counterfactual assumption underlying this regression? "
   ]
  },
  {
   "cell_type": "code",
   "execution_count": 175,
   "metadata": {
    "autoscroll": "json-false",
    "collapsed": false,
    "ein.tags": [
     "worksheet-0"
    ],
    "slideshow": {
     "slide_type": "-"
    }
   },
   "outputs": [
    {
     "name": "stderr",
     "output_type": "stream",
     "text": [
      "C:\\Users\\singhak\\AppData\\Local\\Continuum\\Anaconda3\\lib\\site-packages\\ipykernel\\__main__.py:5: SettingWithCopyWarning: \n",
      "A value is trying to be set on a copy of a slice from a DataFrame.\n",
      "Try using .loc[row_indexer,col_indexer] = value instead\n",
      "\n",
      "See the caveats in the documentation: http://pandas.pydata.org/pandas-docs/stable/indexing.html#indexing-view-versus-copy\n"
     ]
    },
    {
     "data": {
      "text/html": [
       "<table class=\"simpletable\">\n",
       "<caption>OLS Regression Results</caption>\n",
       "<tr>\n",
       "  <th>Dep. Variable:</th>           <td>sc</td>        <th>  R-squared:         </th> <td>   0.024</td> \n",
       "</tr>\n",
       "<tr>\n",
       "  <th>Model:</th>                   <td>OLS</td>       <th>  Adj. R-squared:    </th> <td>   0.024</td> \n",
       "</tr>\n",
       "<tr>\n",
       "  <th>Method:</th>             <td>Least Squares</td>  <th>  F-statistic:       </th> <td>   156.9</td> \n",
       "</tr>\n",
       "<tr>\n",
       "  <th>Date:</th>             <td>Thu, 26 Jan 2017</td> <th>  Prob (F-statistic):</th> <td>1.17e-294</td>\n",
       "</tr>\n",
       "<tr>\n",
       "  <th>Time:</th>                 <td>14:54:38</td>     <th>  Log-Likelihood:    </th> <td> -24759.</td> \n",
       "</tr>\n",
       "<tr>\n",
       "  <th>No. Observations:</th>      <td> 56893</td>      <th>  AIC:               </th> <td>4.954e+04</td>\n",
       "</tr>\n",
       "<tr>\n",
       "  <th>Df Residuals:</th>          <td> 56883</td>      <th>  BIC:               </th> <td>4.963e+04</td>\n",
       "</tr>\n",
       "<tr>\n",
       "  <th>Df Model:</th>              <td>     9</td>      <th>                     </th>     <td> </td>    \n",
       "</tr>\n",
       "<tr>\n",
       "  <th>Covariance Type:</th>      <td>nonrobust</td>    <th>                     </th>     <td> </td>    \n",
       "</tr>\n",
       "</table>\n",
       "<table class=\"simpletable\">\n",
       "<tr>\n",
       "                  <td></td>                    <th>coef</th>     <th>std err</th>      <th>t</th>      <th>P>|t|</th> <th>[95.0% Conf. Int.]</th> \n",
       "</tr>\n",
       "<tr>\n",
       "  <th>Intercept</th>                        <td>    0.8337</td> <td>    0.011</td> <td>   76.936</td> <td> 0.000</td> <td>    0.813     0.855</td>\n",
       "</tr>\n",
       "<tr>\n",
       "  <th>progresa[T.basal]</th>                <td>    0.0047</td> <td>    0.004</td> <td>    1.075</td> <td> 0.283</td> <td>   -0.004     0.013</td>\n",
       "</tr>\n",
       "<tr>\n",
       "  <th>effect[T.True]</th>                   <td>   -0.0056</td> <td>    0.005</td> <td>   -1.101</td> <td> 0.271</td> <td>   -0.016     0.004</td>\n",
       "</tr>\n",
       "<tr>\n",
       "  <th>progresa[T.basal]:effect[T.True]</th> <td>    0.0305</td> <td>    0.006</td> <td>    4.696</td> <td> 0.000</td> <td>    0.018     0.043</td>\n",
       "</tr>\n",
       "<tr>\n",
       "  <th>dist_sec</th>                         <td>   -0.0080</td> <td>    0.001</td> <td>  -10.740</td> <td> 0.000</td> <td>   -0.009    -0.007</td>\n",
       "</tr>\n",
       "<tr>\n",
       "  <th>hohedu</th>                           <td>    0.0154</td> <td>    0.001</td> <td>   24.521</td> <td> 0.000</td> <td>    0.014     0.017</td>\n",
       "</tr>\n",
       "<tr>\n",
       "  <th>welfare_index</th>                    <td>   -0.0002</td> <td> 1.39e-05</td> <td>  -11.948</td> <td> 0.000</td> <td>   -0.000    -0.000</td>\n",
       "</tr>\n",
       "<tr>\n",
       "  <th>indig</th>                            <td>    0.0223</td> <td>    0.004</td> <td>    5.806</td> <td> 0.000</td> <td>    0.015     0.030</td>\n",
       "</tr>\n",
       "<tr>\n",
       "  <th>dist_cap</th>                         <td>    0.0001</td> <td> 2.99e-05</td> <td>    4.772</td> <td> 0.000</td> <td> 8.41e-05     0.000</td>\n",
       "</tr>\n",
       "<tr>\n",
       "  <th>min_dist</th>                         <td>    0.0004</td> <td> 5.17e-05</td> <td>    7.463</td> <td> 0.000</td> <td>    0.000     0.000</td>\n",
       "</tr>\n",
       "</table>\n",
       "<table class=\"simpletable\">\n",
       "<tr>\n",
       "  <th>Omnibus:</th>       <td>14408.116</td> <th>  Durbin-Watson:     </th> <td>   1.414</td> \n",
       "</tr>\n",
       "<tr>\n",
       "  <th>Prob(Omnibus):</th>  <td> 0.000</td>   <th>  Jarque-Bera (JB):  </th> <td>28076.831</td>\n",
       "</tr>\n",
       "<tr>\n",
       "  <th>Skew:</th>           <td>-1.659</td>   <th>  Prob(JB):          </th> <td>    0.00</td> \n",
       "</tr>\n",
       "<tr>\n",
       "  <th>Kurtosis:</th>       <td> 3.912</td>   <th>  Cond. No.          </th> <td>4.94e+03</td> \n",
       "</tr>\n",
       "</table>"
      ],
      "text/plain": [
       "<class 'statsmodels.iolib.summary.Summary'>\n",
       "\"\"\"\n",
       "                            OLS Regression Results                            \n",
       "==============================================================================\n",
       "Dep. Variable:                     sc   R-squared:                       0.024\n",
       "Model:                            OLS   Adj. R-squared:                  0.024\n",
       "Method:                 Least Squares   F-statistic:                     156.9\n",
       "Date:                Thu, 26 Jan 2017   Prob (F-statistic):          1.17e-294\n",
       "Time:                        14:54:38   Log-Likelihood:                -24759.\n",
       "No. Observations:               56893   AIC:                         4.954e+04\n",
       "Df Residuals:                   56883   BIC:                         4.963e+04\n",
       "Df Model:                           9                                         \n",
       "Covariance Type:            nonrobust                                         \n",
       "====================================================================================================\n",
       "                                       coef    std err          t      P>|t|      [95.0% Conf. Int.]\n",
       "----------------------------------------------------------------------------------------------------\n",
       "Intercept                            0.8337      0.011     76.936      0.000         0.813     0.855\n",
       "progresa[T.basal]                    0.0047      0.004      1.075      0.283        -0.004     0.013\n",
       "effect[T.True]                      -0.0056      0.005     -1.101      0.271        -0.016     0.004\n",
       "progresa[T.basal]:effect[T.True]     0.0305      0.006      4.696      0.000         0.018     0.043\n",
       "dist_sec                            -0.0080      0.001    -10.740      0.000        -0.009    -0.007\n",
       "hohedu                               0.0154      0.001     24.521      0.000         0.014     0.017\n",
       "welfare_index                       -0.0002   1.39e-05    -11.948      0.000        -0.000    -0.000\n",
       "indig                                0.0223      0.004      5.806      0.000         0.015     0.030\n",
       "dist_cap                             0.0001   2.99e-05      4.772      0.000      8.41e-05     0.000\n",
       "min_dist                             0.0004   5.17e-05      7.463      0.000         0.000     0.000\n",
       "==============================================================================\n",
       "Omnibus:                    14408.116   Durbin-Watson:                   1.414\n",
       "Prob(Omnibus):                  0.000   Jarque-Bera (JB):            28076.831\n",
       "Skew:                          -1.659   Prob(JB):                         0.00\n",
       "Kurtosis:                       3.912   Cond. No.                     4.94e+03\n",
       "==============================================================================\n",
       "\n",
       "Warnings:\n",
       "[1] Standard Errors assume that the covariance matrix of the errors is correctly specified.\n",
       "[2] The condition number is large, 4.94e+03. This might indicate that there are\n",
       "strong multicollinearity or other numerical problems.\n",
       "\"\"\""
      ]
     },
     "execution_count": 175,
     "metadata": {},
     "output_type": "execute_result"
    }
   ],
   "source": [
    "# Filter by poor\n",
    "progresa_diff = progresa[(progresa['poor'] == 'pobre')]\n",
    "\n",
    "#Create column that singifies if the year is 98 to take into account the effect\n",
    "progresa_diff['effect'] = progresa_diff['year'] == 98\n",
    "\n",
    "# Fit difference seeing the effect of our added variable effect\n",
    "progresa_model = smf.ols(formula = \n",
    "  'sc ~ progresa + dist_sec + hohedu + welfare_index + indig + dist_cap + min_dist + effect + progresa*effect', data = progresa_diff).fit()\n",
    "\n",
    "progresa_model.summary()"
   ]
  },
  {
   "cell_type": "code",
   "execution_count": 168,
   "metadata": {
    "collapsed": false
   },
   "outputs": [
    {
     "data": {
      "text/plain": [
       "Intercept                           0.010837\n",
       "progresa[T.basal]                   0.004405\n",
       "effect[T.True]                      0.005114\n",
       "progresa[T.basal]:effect[T.True]    0.006486\n",
       "dist_sec                            0.000746\n",
       "hohedu                              0.000629\n",
       "welfare_index                       0.000014\n",
       "indig                               0.003841\n",
       "dist_cap                            0.000030\n",
       "min_dist                            0.000052\n",
       "dtype: float64"
      ]
     },
     "execution_count": 168,
     "metadata": {},
     "output_type": "execute_result"
    }
   ],
   "source": [
    "#Standard errors\n",
    "progresa_model.bse"
   ]
  },
  {
   "cell_type": "markdown",
   "metadata": {},
   "source": [
    "a.) To estimate the impact of Progresa we've taken the treatment variable 'progresa' in conjuction with a variable 'effect' that show's the interaction effect of the treatment and the year '98. The value of the parameter is 0.0305\n",
    "\n",
    "b.) Our interaction variable is more statistically significant in this difference of difference method than the 'progresa' variable was in the simple differences method. This shows that we over-estimated the impact of that variable alone without taking into account our counterfactual.\n",
    "\n",
    "c.) Problem 2.4 yielded a difference of 0.0307 and didn't account for all the other control variables which we've now used. This indicates that the impact of the variable 'progresa' decreased due to the other variables used. \n",
    "\n",
    "d.) The counterfactual assumption  is that in the absence of treatment and controls, over a particular time (97-98), the rate of enrollment in the treatment villages would have been equal to the rate of enrollment in control villages."
   ]
  },
  {
   "cell_type": "markdown",
   "metadata": {
    "ein.tags": [
     "worksheet-0"
    ],
    "slideshow": {
     "slide_type": "-"
    }
   },
   "source": [
    "### 2.6 Difference-in-Difference, version 2\n",
    "\n",
    "In the previous problem, you estimated a difference-in-differences model that compared changes in enrollment rates over time across treatment and control villages. An alternative approach would be to compare enrollment rates in 1998 between poor and non-poor across treatment and control villages. \n",
    "\n",
    "* How would we estimate this version of the treatment effects in a regression model? \n",
    "* What is the counterfactual assumption underlying this regression?\n",
    "* How do these treatment effects compare to the estimates above?\n",
    "* Discuss some possible explanations for differences or similarities "
   ]
  },
  {
   "cell_type": "code",
   "execution_count": 174,
   "metadata": {
    "autoscroll": "json-false",
    "collapsed": false,
    "ein.tags": [
     "worksheet-0"
    ],
    "slideshow": {
     "slide_type": "-"
    }
   },
   "outputs": [
    {
     "name": "stderr",
     "output_type": "stream",
     "text": [
      "C:\\Users\\singhak\\AppData\\Local\\Continuum\\Anaconda3\\lib\\site-packages\\ipykernel\\__main__.py:5: SettingWithCopyWarning: \n",
      "A value is trying to be set on a copy of a slice from a DataFrame.\n",
      "Try using .loc[row_indexer,col_indexer] = value instead\n",
      "\n",
      "See the caveats in the documentation: http://pandas.pydata.org/pandas-docs/stable/indexing.html#indexing-view-versus-copy\n"
     ]
    },
    {
     "data": {
      "text/html": [
       "<table class=\"simpletable\">\n",
       "<caption>OLS Regression Results</caption>\n",
       "<tr>\n",
       "  <th>Dep. Variable:</th>           <td>sc</td>        <th>  R-squared:         </th> <td>   0.029</td> \n",
       "</tr>\n",
       "<tr>\n",
       "  <th>Model:</th>                   <td>OLS</td>       <th>  Adj. R-squared:    </th> <td>   0.029</td> \n",
       "</tr>\n",
       "<tr>\n",
       "  <th>Method:</th>             <td>Least Squares</td>  <th>  F-statistic:       </th> <td>   102.2</td> \n",
       "</tr>\n",
       "<tr>\n",
       "  <th>Date:</th>             <td>Thu, 26 Jan 2017</td> <th>  Prob (F-statistic):</th> <td>2.44e-189</td>\n",
       "</tr>\n",
       "<tr>\n",
       "  <th>Time:</th>                 <td>14:54:03</td>     <th>  Log-Likelihood:    </th> <td> -13066.</td> \n",
       "</tr>\n",
       "<tr>\n",
       "  <th>No. Observations:</th>      <td> 30665</td>      <th>  AIC:               </th> <td>2.615e+04</td>\n",
       "</tr>\n",
       "<tr>\n",
       "  <th>Df Residuals:</th>          <td> 30655</td>      <th>  BIC:               </th> <td>2.623e+04</td>\n",
       "</tr>\n",
       "<tr>\n",
       "  <th>Df Model:</th>              <td>     9</td>      <th>                     </th>     <td> </td>    \n",
       "</tr>\n",
       "<tr>\n",
       "  <th>Covariance Type:</th>      <td>nonrobust</td>    <th>                     </th>     <td> </td>    \n",
       "</tr>\n",
       "</table>\n",
       "<table class=\"simpletable\">\n",
       "<tr>\n",
       "                  <td></td>                    <th>coef</th>     <th>std err</th>      <th>t</th>      <th>P>|t|</th> <th>[95.0% Conf. Int.]</th> \n",
       "</tr>\n",
       "<tr>\n",
       "  <th>Intercept</th>                        <td>    0.7739</td> <td>    0.019</td> <td>   40.217</td> <td> 0.000</td> <td>    0.736     0.812</td>\n",
       "</tr>\n",
       "<tr>\n",
       "  <th>progresa[T.basal]</th>                <td>    0.0217</td> <td>    0.011</td> <td>    1.923</td> <td> 0.055</td> <td>   -0.000     0.044</td>\n",
       "</tr>\n",
       "<tr>\n",
       "  <th>effect[T.True]</th>                   <td>    0.0061</td> <td>    0.010</td> <td>    0.585</td> <td> 0.558</td> <td>   -0.014     0.026</td>\n",
       "</tr>\n",
       "<tr>\n",
       "  <th>progresa[T.basal]:effect[T.True]</th> <td>    0.0140</td> <td>    0.012</td> <td>    1.145</td> <td> 0.252</td> <td>   -0.010     0.038</td>\n",
       "</tr>\n",
       "<tr>\n",
       "  <th>dist_sec</th>                         <td>   -0.0090</td> <td>    0.001</td> <td>   -8.821</td> <td> 0.000</td> <td>   -0.011    -0.007</td>\n",
       "</tr>\n",
       "<tr>\n",
       "  <th>hohedu</th>                           <td>    0.0160</td> <td>    0.001</td> <td>   19.780</td> <td> 0.000</td> <td>    0.014     0.018</td>\n",
       "</tr>\n",
       "<tr>\n",
       "  <th>welfare_index</th>                    <td>   -0.0001</td> <td> 1.85e-05</td> <td>   -5.449</td> <td> 0.000</td> <td>   -0.000 -6.47e-05</td>\n",
       "</tr>\n",
       "<tr>\n",
       "  <th>indig</th>                            <td>    0.0201</td> <td>    0.005</td> <td>    3.786</td> <td> 0.000</td> <td>    0.010     0.031</td>\n",
       "</tr>\n",
       "<tr>\n",
       "  <th>dist_cap</th>                         <td>    0.0002</td> <td> 4.11e-05</td> <td>    4.732</td> <td> 0.000</td> <td>    0.000     0.000</td>\n",
       "</tr>\n",
       "<tr>\n",
       "  <th>min_dist</th>                         <td>    0.0004</td> <td>    7e-05</td> <td>    5.368</td> <td> 0.000</td> <td>    0.000     0.001</td>\n",
       "</tr>\n",
       "</table>\n",
       "<table class=\"simpletable\">\n",
       "<tr>\n",
       "  <th>Omnibus:</th>       <td>7895.047</td> <th>  Durbin-Watson:     </th> <td>   1.769</td> \n",
       "</tr>\n",
       "<tr>\n",
       "  <th>Prob(Omnibus):</th>  <td> 0.000</td>  <th>  Jarque-Bera (JB):  </th> <td>15519.102</td>\n",
       "</tr>\n",
       "<tr>\n",
       "  <th>Skew:</th>           <td>-1.671</td>  <th>  Prob(JB):          </th> <td>    0.00</td> \n",
       "</tr>\n",
       "<tr>\n",
       "  <th>Kurtosis:</th>       <td> 3.985</td>  <th>  Cond. No.          </th> <td>7.81e+03</td> \n",
       "</tr>\n",
       "</table>"
      ],
      "text/plain": [
       "<class 'statsmodels.iolib.summary.Summary'>\n",
       "\"\"\"\n",
       "                            OLS Regression Results                            \n",
       "==============================================================================\n",
       "Dep. Variable:                     sc   R-squared:                       0.029\n",
       "Model:                            OLS   Adj. R-squared:                  0.029\n",
       "Method:                 Least Squares   F-statistic:                     102.2\n",
       "Date:                Thu, 26 Jan 2017   Prob (F-statistic):          2.44e-189\n",
       "Time:                        14:54:03   Log-Likelihood:                -13066.\n",
       "No. Observations:               30665   AIC:                         2.615e+04\n",
       "Df Residuals:                   30655   BIC:                         2.623e+04\n",
       "Df Model:                           9                                         \n",
       "Covariance Type:            nonrobust                                         \n",
       "====================================================================================================\n",
       "                                       coef    std err          t      P>|t|      [95.0% Conf. Int.]\n",
       "----------------------------------------------------------------------------------------------------\n",
       "Intercept                            0.7739      0.019     40.217      0.000         0.736     0.812\n",
       "progresa[T.basal]                    0.0217      0.011      1.923      0.055        -0.000     0.044\n",
       "effect[T.True]                       0.0061      0.010      0.585      0.558        -0.014     0.026\n",
       "progresa[T.basal]:effect[T.True]     0.0140      0.012      1.145      0.252        -0.010     0.038\n",
       "dist_sec                            -0.0090      0.001     -8.821      0.000        -0.011    -0.007\n",
       "hohedu                               0.0160      0.001     19.780      0.000         0.014     0.018\n",
       "welfare_index                       -0.0001   1.85e-05     -5.449      0.000        -0.000 -6.47e-05\n",
       "indig                                0.0201      0.005      3.786      0.000         0.010     0.031\n",
       "dist_cap                             0.0002   4.11e-05      4.732      0.000         0.000     0.000\n",
       "min_dist                             0.0004      7e-05      5.368      0.000         0.000     0.001\n",
       "==============================================================================\n",
       "Omnibus:                     7895.047   Durbin-Watson:                   1.769\n",
       "Prob(Omnibus):                  0.000   Jarque-Bera (JB):            15519.102\n",
       "Skew:                          -1.671   Prob(JB):                         0.00\n",
       "Kurtosis:                       3.985   Cond. No.                     7.81e+03\n",
       "==============================================================================\n",
       "\n",
       "Warnings:\n",
       "[1] Standard Errors assume that the covariance matrix of the errors is correctly specified.\n",
       "[2] The condition number is large, 7.81e+03. This might indicate that there are\n",
       "strong multicollinearity or other numerical problems.\n",
       "\"\"\""
      ]
     },
     "execution_count": 174,
     "metadata": {},
     "output_type": "execute_result"
    }
   ],
   "source": [
    "# Filter by year\n",
    "progresa_diff_2 = progresa[(progresa['year'] == 98)]\n",
    "\n",
    "#Create column that singifies if the people are poor to take into account its effect\n",
    "progresa_diff_2['effect'] = progresa_diff_2['poor'] == 'pobre'\n",
    "\n",
    "# Fit difference seeing the effect of our added variable effect\n",
    "progresa_model_2 = smf.ols(formula = \n",
    "  'sc ~ progresa + dist_sec + hohedu + welfare_index + indig + dist_cap + min_dist + progresa*effect', data = progresa_diff_2).fit()\n",
    "\n",
    "progresa_model_2.summary()"
   ]
  },
  {
   "cell_type": "code",
   "execution_count": 170,
   "metadata": {
    "collapsed": false
   },
   "outputs": [
    {
     "data": {
      "text/plain": [
       "Intercept                           0.019242\n",
       "progresa[T.basal]                   0.011280\n",
       "effect[T.True]                      0.010405\n",
       "progresa[T.basal]:effect[T.True]    0.012238\n",
       "dist_sec                            0.001020\n",
       "hohedu                              0.000811\n",
       "welfare_index                       0.000019\n",
       "indig                               0.005313\n",
       "dist_cap                            0.000041\n",
       "min_dist                            0.000070\n",
       "dtype: float64"
      ]
     },
     "execution_count": 170,
     "metadata": {},
     "output_type": "execute_result"
    }
   ],
   "source": [
    "#Standard error\n",
    "progresa_model_2.bse"
   ]
  },
  {
   "cell_type": "markdown",
   "metadata": {},
   "source": [
    "a.) We would add a binary effect variable to signify whether the family was poor or not. We would then combine it with the interaction variable in our multiple regression\n",
    "\n",
    "b.) The counterfactual assumption is that in the absence of treatment, the rate of enrollment, for the poor as well as the non-poor would be the same as the enrollment for the control group\n",
    "\n",
    "c.) The treatment effects are different as we can see the R-squared value has increased from 0.024 to 0.029. The effect of the poverty variable in case of poor and non-poor households is still statistically significant even though it is on the whole insignificant.\n",
    "\n",
    "d.) Our present model is the same as the previous model given that we've added our own interaction variable in both the cases. On their own they might not be significant but we check their effects in conjuction with the 'progresa' variable. \n",
    "\n",
    "The difference however is that time is statistically significant in conjuction with the treatment variable in the previous model whereas the effect of poverty isn't statistically significant in this model, on it's own or in conjuction with the treatment variable, as we can see from p-values. "
   ]
  },
  {
   "cell_type": "markdown",
   "metadata": {
    "ein.tags": [
     "worksheet-0"
    ],
    "slideshow": {
     "slide_type": "-"
    }
   },
   "source": [
    "### 2.7 Spillover effects (extra credit)\n",
    "\n",
    "Thus far, we have focused on the impact of PROGRESA on poor households. Repeat your analysis in 2.5, using a double-difference regression to estimate the impact of PROGRESA on non-poor households. In other words, compare the difference in enrollments between 1997 and 1998 for non-poor households in treatment villages with the difference in enrollments between 1997 and 1998 for non-poor households in control villages.\n",
    "\n",
    "* A: Describe one or two reasons why PROGRESA might have impacted non-poor households.\n",
    "* B: Do you observe any impacts of PROGRESA on the non-poor?\n",
    "* C: What is the identifying assumption that you are using to estimate the impact of PROGRESA on non-poor households."
   ]
  },
  {
   "cell_type": "code",
   "execution_count": 178,
   "metadata": {
    "autoscroll": "json-false",
    "collapsed": false,
    "ein.tags": [
     "worksheet-0"
    ],
    "slideshow": {
     "slide_type": "-"
    }
   },
   "outputs": [
    {
     "name": "stderr",
     "output_type": "stream",
     "text": [
      "C:\\Users\\singhak\\AppData\\Local\\Continuum\\Anaconda3\\lib\\site-packages\\ipykernel\\__main__.py:5: SettingWithCopyWarning: \n",
      "A value is trying to be set on a copy of a slice from a DataFrame.\n",
      "Try using .loc[row_indexer,col_indexer] = value instead\n",
      "\n",
      "See the caveats in the documentation: http://pandas.pydata.org/pandas-docs/stable/indexing.html#indexing-view-versus-copy\n"
     ]
    },
    {
     "data": {
      "text/html": [
       "<table class=\"simpletable\">\n",
       "<caption>OLS Regression Results</caption>\n",
       "<tr>\n",
       "  <th>Dep. Variable:</th>           <td>sc</td>        <th>  R-squared:         </th> <td>   0.040</td> \n",
       "</tr>\n",
       "<tr>\n",
       "  <th>Model:</th>                   <td>OLS</td>       <th>  Adj. R-squared:    </th> <td>   0.039</td> \n",
       "</tr>\n",
       "<tr>\n",
       "  <th>Method:</th>             <td>Least Squares</td>  <th>  F-statistic:       </th> <td>   47.50</td> \n",
       "</tr>\n",
       "<tr>\n",
       "  <th>Date:</th>             <td>Thu, 26 Jan 2017</td> <th>  Prob (F-statistic):</th> <td>1.22e-84</td> \n",
       "</tr>\n",
       "<tr>\n",
       "  <th>Time:</th>                 <td>14:57:29</td>     <th>  Log-Likelihood:    </th> <td> -5117.0</td> \n",
       "</tr>\n",
       "<tr>\n",
       "  <th>No. Observations:</th>      <td> 10229</td>      <th>  AIC:               </th> <td>1.025e+04</td>\n",
       "</tr>\n",
       "<tr>\n",
       "  <th>Df Residuals:</th>          <td> 10219</td>      <th>  BIC:               </th> <td>1.033e+04</td>\n",
       "</tr>\n",
       "<tr>\n",
       "  <th>Df Model:</th>              <td>     9</td>      <th>                     </th>     <td> </td>    \n",
       "</tr>\n",
       "<tr>\n",
       "  <th>Covariance Type:</th>      <td>nonrobust</td>    <th>                     </th>     <td> </td>    \n",
       "</tr>\n",
       "</table>\n",
       "<table class=\"simpletable\">\n",
       "<tr>\n",
       "                  <td></td>                    <th>coef</th>     <th>std err</th>      <th>t</th>      <th>P>|t|</th> <th>[95.0% Conf. Int.]</th> \n",
       "</tr>\n",
       "<tr>\n",
       "  <th>Intercept</th>                        <td>    0.6250</td> <td>    0.032</td> <td>   19.826</td> <td> 0.000</td> <td>    0.563     0.687</td>\n",
       "</tr>\n",
       "<tr>\n",
       "  <th>progresa[T.basal]</th>                <td>    0.0248</td> <td>    0.011</td> <td>    2.290</td> <td> 0.022</td> <td>    0.004     0.046</td>\n",
       "</tr>\n",
       "<tr>\n",
       "  <th>effect[T.True]</th>                   <td>    0.0174</td> <td>    0.013</td> <td>    1.380</td> <td> 0.168</td> <td>   -0.007     0.042</td>\n",
       "</tr>\n",
       "<tr>\n",
       "  <th>progresa[T.basal]:effect[T.True]</th> <td>   -0.0049</td> <td>    0.016</td> <td>   -0.299</td> <td> 0.765</td> <td>   -0.037     0.027</td>\n",
       "</tr>\n",
       "<tr>\n",
       "  <th>dist_sec</th>                         <td>   -0.0152</td> <td>    0.002</td> <td>   -7.389</td> <td> 0.000</td> <td>   -0.019    -0.011</td>\n",
       "</tr>\n",
       "<tr>\n",
       "  <th>hohedu</th>                           <td>    0.0175</td> <td>    0.001</td> <td>   13.972</td> <td> 0.000</td> <td>    0.015     0.020</td>\n",
       "</tr>\n",
       "<tr>\n",
       "  <th>welfare_index</th>                    <td> 5.422e-05</td> <td>  3.3e-05</td> <td>    1.642</td> <td> 0.101</td> <td>-1.05e-05     0.000</td>\n",
       "</tr>\n",
       "<tr>\n",
       "  <th>indig</th>                            <td>    0.0175</td> <td>    0.012</td> <td>    1.441</td> <td> 0.150</td> <td>   -0.006     0.041</td>\n",
       "</tr>\n",
       "<tr>\n",
       "  <th>dist_cap</th>                         <td>    0.0005</td> <td> 8.87e-05</td> <td>    6.099</td> <td> 0.000</td> <td>    0.000     0.001</td>\n",
       "</tr>\n",
       "<tr>\n",
       "  <th>min_dist</th>                         <td>-4.298e-05</td> <td>    0.000</td> <td>   -0.316</td> <td> 0.752</td> <td>   -0.000     0.000</td>\n",
       "</tr>\n",
       "</table>\n",
       "<table class=\"simpletable\">\n",
       "<tr>\n",
       "  <th>Omnibus:</th>       <td>1814.569</td> <th>  Durbin-Watson:     </th> <td>   1.493</td>\n",
       "</tr>\n",
       "<tr>\n",
       "  <th>Prob(Omnibus):</th>  <td> 0.000</td>  <th>  Jarque-Bera (JB):  </th> <td>3000.703</td>\n",
       "</tr>\n",
       "<tr>\n",
       "  <th>Skew:</th>           <td>-1.327</td>  <th>  Prob(JB):          </th> <td>    0.00</td>\n",
       "</tr>\n",
       "<tr>\n",
       "  <th>Kurtosis:</th>       <td> 2.967</td>  <th>  Cond. No.          </th> <td>7.26e+03</td>\n",
       "</tr>\n",
       "</table>"
      ],
      "text/plain": [
       "<class 'statsmodels.iolib.summary.Summary'>\n",
       "\"\"\"\n",
       "                            OLS Regression Results                            \n",
       "==============================================================================\n",
       "Dep. Variable:                     sc   R-squared:                       0.040\n",
       "Model:                            OLS   Adj. R-squared:                  0.039\n",
       "Method:                 Least Squares   F-statistic:                     47.50\n",
       "Date:                Thu, 26 Jan 2017   Prob (F-statistic):           1.22e-84\n",
       "Time:                        14:57:29   Log-Likelihood:                -5117.0\n",
       "No. Observations:               10229   AIC:                         1.025e+04\n",
       "Df Residuals:                   10219   BIC:                         1.033e+04\n",
       "Df Model:                           9                                         \n",
       "Covariance Type:            nonrobust                                         \n",
       "====================================================================================================\n",
       "                                       coef    std err          t      P>|t|      [95.0% Conf. Int.]\n",
       "----------------------------------------------------------------------------------------------------\n",
       "Intercept                            0.6250      0.032     19.826      0.000         0.563     0.687\n",
       "progresa[T.basal]                    0.0248      0.011      2.290      0.022         0.004     0.046\n",
       "effect[T.True]                       0.0174      0.013      1.380      0.168        -0.007     0.042\n",
       "progresa[T.basal]:effect[T.True]    -0.0049      0.016     -0.299      0.765        -0.037     0.027\n",
       "dist_sec                            -0.0152      0.002     -7.389      0.000        -0.019    -0.011\n",
       "hohedu                               0.0175      0.001     13.972      0.000         0.015     0.020\n",
       "welfare_index                     5.422e-05    3.3e-05      1.642      0.101     -1.05e-05     0.000\n",
       "indig                                0.0175      0.012      1.441      0.150        -0.006     0.041\n",
       "dist_cap                             0.0005   8.87e-05      6.099      0.000         0.000     0.001\n",
       "min_dist                         -4.298e-05      0.000     -0.316      0.752        -0.000     0.000\n",
       "==============================================================================\n",
       "Omnibus:                     1814.569   Durbin-Watson:                   1.493\n",
       "Prob(Omnibus):                  0.000   Jarque-Bera (JB):             3000.703\n",
       "Skew:                          -1.327   Prob(JB):                         0.00\n",
       "Kurtosis:                       2.967   Cond. No.                     7.26e+03\n",
       "==============================================================================\n",
       "\n",
       "Warnings:\n",
       "[1] Standard Errors assume that the covariance matrix of the errors is correctly specified.\n",
       "[2] The condition number is large, 7.26e+03. This might indicate that there are\n",
       "strong multicollinearity or other numerical problems.\n",
       "\"\"\""
      ]
     },
     "execution_count": 178,
     "metadata": {},
     "output_type": "execute_result"
    }
   ],
   "source": [
    "# Filter by poor\n",
    "progresa_diff_3 = progresa[(progresa['poor'] == 'no pobre')]\n",
    "\n",
    "#Create column that singifies if the year is 98 to take into account the effect\n",
    "progresa_diff_3['effect'] = progresa_diff_3['year'] == 98\n",
    "\n",
    "# Fit difference seeing the effect of our added variable effect\n",
    "progresa_model_3 = smf.ols(formula = \n",
    "  'sc ~ progresa + dist_sec + hohedu + welfare_index + indig + dist_cap + min_dist + progresa*effect', data = progresa_diff_3).fit()\n",
    "\n",
    "progresa_model_3.summary()"
   ]
  },
  {
   "cell_type": "code",
   "execution_count": 172,
   "metadata": {
    "collapsed": false
   },
   "outputs": [
    {
     "data": {
      "text/plain": [
       "Intercept                           0.010837\n",
       "progresa[T.basal]                   0.004405\n",
       "effect[T.True]                      0.005114\n",
       "progresa[T.basal]:effect[T.True]    0.006486\n",
       "dist_sec                            0.000746\n",
       "hohedu                              0.000629\n",
       "welfare_index                       0.000014\n",
       "indig                               0.003841\n",
       "dist_cap                            0.000030\n",
       "min_dist                            0.000052\n",
       "dtype: float64"
      ]
     },
     "execution_count": 172,
     "metadata": {},
     "output_type": "execute_result"
    }
   ],
   "source": [
    "#sTANDARD ERROR\n",
    "progresa_model_3.bse"
   ]
  },
  {
   "cell_type": "markdown",
   "metadata": {},
   "source": [
    "a.) Progresa seems to have an impact on non-poor households as well. It might be attributed to the fact that progresa program as a whole is an economic stimulus and that, even though those households are poor they might seek to better themselves witht the incentives from such a program\n",
    "\n",
    "b.) We can see that the interaction variable is statistically insignificant when it comes to the non-poor as it's p-value is way higher than 0.05. Thus we can say it had no effect on non-poor households."
   ]
  },
  {
   "cell_type": "markdown",
   "metadata": {
    "ein.tags": [
     "worksheet-0"
    ],
    "slideshow": {
     "slide_type": "-"
    }
   },
   "source": [
    "### 2.8 Summary\n",
    "\n",
    "Based on all the analysis you have undertaken to date, do you thik that Progresa had a causal impact on the enrollment rates of poor households in Mexico?"
   ]
  },
  {
   "cell_type": "markdown",
   "metadata": {
    "autoscroll": "json-false",
    "collapsed": false,
    "ein.tags": [
     "worksheet-0"
    ],
    "slideshow": {
     "slide_type": "-"
    }
   },
   "source": [
    "In the single difference model we saw that the impact of the progresa program on enrollment rates was significant at 0.038. We also saw through further analyses that we over-estimated the effect of the treatment variable and once other control variables were introduced it's impact lessened. \n",
    "\n",
    "However, an interaction variable made by the conjunction of the treatment variable plus time was seen to be statistically significant even when 'time' and 'progresa' weren't significant on their own. What we were seeing was the effect of the progresa program over a period of time, and it was signficant. \n",
    "\n",
    "We did the same for the treatment and poverty variables but there was no significance to be found which supplements our conclusion that progresa over time helped increase enrollment rates. "
   ]
  }
 ],
 "metadata": {
  "anaconda-cloud": {},
  "kernelspec": {
   "display_name": "Python 3",
   "language": "python",
   "name": "python3"
  },
  "language_info": {
   "codemirror_mode": {
    "name": "ipython",
    "version": 3
   },
   "file_extension": ".py",
   "mimetype": "text/x-python",
   "name": "python",
   "nbconvert_exporter": "python",
   "pygments_lexer": "ipython3",
   "version": "3.5.1"
  },
  "name": "INFX574-PS2.ipynb"
 },
 "nbformat": 4,
 "nbformat_minor": 2
}
